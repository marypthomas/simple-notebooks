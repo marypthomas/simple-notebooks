{
 "cells": [
  {
   "cell_type": "markdown",
   "id": "52135443-f27d-47f9-9f64-17bf928d0285",
   "metadata": {},
   "source": [
    "Simple Jupyter Widgets\n",
    "Created 10/25/23, by Mary Thomas (mpthomas@ucsd.edu)\n",
    "Example adapted from the JupyterBook, Interactive data visualizations demo:  https://jupyterbook.org/en/stable/interactive/interactive.html\n",
    "\n",
    "Demo code to show how to initialize, launch, and interact with a few widgets.\n",
    "More about Jupyter Widgets:\n",
    "https://ipywidgets.readthedocs.io/en/latest/examples/Widget%20List.html"
   ]
  },
  {
   "cell_type": "code",
   "execution_count": 8,
   "id": "f771d157-1c32-41f2-9441-9564d712c7ca",
   "metadata": {},
   "outputs": [],
   "source": [
    "import ipywidgets as widgets\n",
    "#initialize the slider widget\n",
    "w=widgets.IntSlider(\n",
    "    value=5,\n",
    "    min=0,\n",
    "    max=10,\n",
    "    step=1,\n",
    "    description='Test:',\n",
    "    disabled=False,\n",
    "    continuous_update=False,\n",
    "    orientation='horizontal',\n",
    "    readout=True,\n",
    "    readout_format='d'\n",
    ")"
   ]
  },
  {
   "cell_type": "code",
   "execution_count": 8,
   "id": "d51827ee-2428-4466-9517-e2b5adeb7f28",
   "metadata": {},
   "outputs": [
    {
     "data": {
      "application/vnd.jupyter.widget-view+json": {
       "model_id": "1367632a054d4776a31b37db8d2f02ec",
       "version_major": 2,
       "version_minor": 0
      },
      "text/plain": [
       "IntSlider(value=5, continuous_update=False, description='Test:', max=10)"
      ]
     },
     "metadata": {},
     "output_type": "display_data"
    }
   ],
   "source": [
    "#show widget and make it active\n",
    "display(w)"
   ]
  },
  {
   "cell_type": "code",
   "execution_count": 12,
   "id": "077ca8f8-6f3f-4f1c-97ed-ba7337f8c2fc",
   "metadata": {},
   "outputs": [
    {
     "name": "stdout",
     "output_type": "stream",
     "text": [
      "IntSlider(value=3, continuous_update=False, description='Test:', max=10)\n"
     ]
    }
   ],
   "source": [
    "#display current values of the widget\n",
    "print(w)"
   ]
  },
  {
   "cell_type": "code",
   "execution_count": 13,
   "id": "e793839b-e6f0-4581-a75c-ae4f9645e536",
   "metadata": {},
   "outputs": [
    {
     "name": "stdout",
     "output_type": "stream",
     "text": [
      "3\n"
     ]
    }
   ],
   "source": [
    "#extract information\n",
    "print(w.value)"
   ]
  },
  {
   "cell_type": "markdown",
   "id": "100f828e-c9d5-49dc-a596-2b32b509050e",
   "metadata": {},
   "source": []
  },
  {
   "cell_type": "code",
   "execution_count": null,
   "id": "16a1c7c1-62b2-4cc5-911f-5743042e600e",
   "metadata": {},
   "outputs": [],
   "source": [
    "tab_contents = ['P0', 'P1', 'P2', 'P3', 'P4']\n",
    "children = [widgets.Text(description=name) for name in tab_contents]\n",
    "tab = widgets.Tab()\n",
    "tab.children = children\n",
    "for ii in range(len(children)):\n",
    "    tab.set_title(ii, f\"tab_{ii}\")\n",
    "tab"
   ]
  },
  {
   "cell_type": "code",
   "execution_count": null,
   "id": "e0f92452-9e07-4fdf-8ed8-f3aafe78be0a",
   "metadata": {},
   "outputs": [],
   "source": [
    "print (tab.children)"
   ]
  },
  {
   "cell_type": "markdown",
   "id": "11e9bbfe-0ce6-45b9-a1b2-928f749f57d9",
   "metadata": {},
   "source": [
    "IntProgress"
   ]
  },
  {
   "cell_type": "code",
   "execution_count": null,
   "id": "1cfaaedf-1e99-4feb-9d8a-a5a6ddee7f7f",
   "metadata": {},
   "outputs": [],
   "source": [
    "widgets.IntProgress(\n",
    "    value=2,\n",
    "    min=0,\n",
    "    max=10,\n",
    "    description='Loading:',\n",
    "    bar_style='', # 'success', 'info', 'warning', 'danger' or ''\n",
    "    style={'bar_color': 'maroon'},\n",
    "    orientation='horizontal'\n",
    ")"
   ]
  },
  {
   "cell_type": "code",
   "execution_count": null,
   "id": "02ed096b-923f-4de0-9f36-f3bf294e3043",
   "metadata": {},
   "outputs": [],
   "source": []
  }
 ],
 "metadata": {
  "kernelspec": {
   "display_name": "Python 3 (ipykernel)",
   "language": "python",
   "name": "python3"
  },
  "language_info": {
   "codemirror_mode": {
    "name": "ipython",
    "version": 3
   },
   "file_extension": ".py",
   "mimetype": "text/x-python",
   "name": "python",
   "nbconvert_exporter": "python",
   "pygments_lexer": "ipython3",
   "version": "3.9.12"
  }
 },
 "nbformat": 4,
 "nbformat_minor": 5
}
