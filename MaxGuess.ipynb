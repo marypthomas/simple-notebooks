{
 "cells": [
  {
   "cell_type": "markdown",
   "id": "f0784e0a-1e54-441c-a536-dc3db7c72a5d",
   "metadata": {},
   "source": [
    "Guess the Number\n",
    "Created 10/25/23, by Mary Thomas (mpthomas@ucsd.edu)\n",
    "Example adapted from \"Guess the number game using jupyter notebook\"\n",
    "https://codereview.stackexchange.com/questions/193394/guess-the-number-game-using-jupyter-notebook"
   ]
  },
  {
   "cell_type": "code",
   "execution_count": null,
   "id": "b19314b2-0c26-4e4a-89f1-6d279111c662",
   "metadata": {},
   "outputs": [],
   "source": [
    "from random import randint\n",
    "rand_numb = randint(1,100)\n",
    "print (\"rand_numb = \", rand_numb)"
   ]
  },
  {
   "cell_type": "code",
   "execution_count": null,
   "id": "fe86e2b8-f5c9-4d2e-a077-9b8e77ade294",
   "metadata": {},
   "outputs": [],
   "source": [
    "guesses = 0\n",
    "max_guesses = 5\n",
    "name = \"Mary\"\n",
    "print (\"Hi \",name,\"! You have Max Guesses\", maxGuesses)"
   ]
  },
  {
   "cell_type": "code",
   "execution_count": null,
   "id": "7e00a503-732c-49ae-935b-4917ee641155",
   "metadata": {},
   "outputs": [],
   "source": [
    "while guesses < max_guesses:\n",
    "    person_input = int(input('What is your guess? '))\n",
    "    guesses = guesses + 1\n",
    "\n",
    "    if guesses == max_guesses and person_input != rand_numb:\n",
    "        print()\n",
    "        print('You lost! You ran out of your guesses!')\n",
    "        print('The answer was', rand_numb, '!')\n",
    "    elif person_input == rand_numb:\n",
    "        print()\n",
    "        print('You won! It took you', guesses, 'guess(es)!')\n",
    "        break\n",
    "    elif person_input > rand_numb: #and guesses != max_guesses:\n",
    "        print('Guess lower', '(', maxGuesses - guesses,'guess(es) left)')\n",
    "        print()\n",
    "    elif person_input < rand_numb: #and guesses != max_guesses:\n",
    "        print('Guess higher', '(', maxGuesses - guesses,'guess(es) left)')\n",
    "        print()\n",
    "\n",
    "    "
   ]
  },
  {
   "cell_type": "code",
   "execution_count": null,
   "id": "497ef3f9-edc9-4ccb-af4a-5a459962cbcd",
   "metadata": {},
   "outputs": [],
   "source": []
  },
  {
   "cell_type": "code",
   "execution_count": null,
   "id": "94cd2015-5949-4fad-819a-4c5e775086eb",
   "metadata": {},
   "outputs": [],
   "source": []
  }
 ],
 "metadata": {
  "kernelspec": {
   "display_name": "Python 3 (ipykernel)",
   "language": "python",
   "name": "python3"
  },
  "language_info": {
   "codemirror_mode": {
    "name": "ipython",
    "version": 3
   },
   "file_extension": ".py",
   "mimetype": "text/x-python",
   "name": "python",
   "nbconvert_exporter": "python",
   "pygments_lexer": "ipython3",
   "version": "3.9.12"
  }
 },
 "nbformat": 4,
 "nbformat_minor": 5
}
